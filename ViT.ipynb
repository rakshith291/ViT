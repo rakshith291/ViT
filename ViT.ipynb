{
  "nbformat": 4,
  "nbformat_minor": 0,
  "metadata": {
    "accelerator": "GPU",
    "colab": {
      "name": "ViT.ipynb",
      "provenance": [],
      "authorship_tag": "ABX9TyOjrwnsS5Pf2fde9YPR/k9A",
      "include_colab_link": true
    },
    "kernelspec": {
      "display_name": "Python 3",
      "name": "python3"
    },
    "language_info": {
      "name": "python"
    }
  },
  "cells": [
    {
      "cell_type": "markdown",
      "metadata": {
        "id": "view-in-github",
        "colab_type": "text"
      },
      "source": [
        "<a href=\"https://colab.research.google.com/github/rakshith291/ViT/blob/main/ViT.ipynb\" target=\"_parent\"><img src=\"https://colab.research.google.com/assets/colab-badge.svg\" alt=\"Open In Colab\"/></a>"
      ]
    },
    {
      "cell_type": "code",
      "metadata": {
        "id": "rMWuLIyQ5Nye"
      },
      "source": [
        "import tensorflow as tf\n",
        "from tensorflow import keras\n",
        "from tensorflow.keras import layers\n",
        "from tensorflow.keras import utils\n",
        "import math\n",
        "import numpy as np \n",
        "tf.config.run_functions_eagerly(True)"
      ],
      "execution_count": null,
      "outputs": []
    },
    {
      "cell_type": "code",
      "metadata": {
        "id": "O8KociIABWH2"
      },
      "source": [
        "class TransformerBlock(layers.Layer):\n",
        "    def __init__(self, embed_dim, num_heads, ff_dim, rate=0.1):\n",
        "        super(TransformerBlock, self).__init__()\n",
        "        self.att = layers.MultiHeadAttention(num_heads=num_heads, key_dim=embed_dim)\n",
        "        self.ffn = keras.Sequential(\n",
        "            [layers.Dense(ff_dim, activation=tf.nn.gelu), layers.Dense(embed_dim),]\n",
        "        )\n",
        "        self.layernorm1 = layers.LayerNormalization(epsilon=1e-6)\n",
        "        self.layernorm2 = layers.LayerNormalization(epsilon=1e-6)\n",
        "        self.dropout1 = layers.Dropout(rate)\n",
        "        self.dropout2 = layers.Dropout(rate)\n",
        "\n",
        "    def get_config(self):\n",
        "        config = super().get_config().copy()\n",
        "        config.update({\n",
        "            'att':self.att,\n",
        "            'ffn':self.ffn,\n",
        "            'layernorm1':self.layernorm1,\n",
        "            'layernorm2':self.layernorm2,\n",
        "            'dropout1':self.dropout1,\n",
        "            'dropout2':self.dropout2\n",
        "        })\n",
        "        return config\n",
        "\n",
        "    def call(self, inputs, training):\n",
        "        attn_output,attn_scores = self.att(inputs, inputs,return_attention_scores = True)\n",
        "        attn_output = self.dropout1(attn_output, training=training)\n",
        "        out1 = self.layernorm1(inputs + attn_output)\n",
        "        ffn_output = self.ffn(out1)\n",
        "        ffn_output = self.dropout2(ffn_output, training=training)\n",
        "        return self.layernorm2(out1 + ffn_output),attn_scores"
      ],
      "execution_count": null,
      "outputs": []
    },
    {
      "cell_type": "code",
      "metadata": {
        "id": "vCLmOsqmIR2M"
      },
      "source": [
        "class TokenEmbedding(layers.Layer):\n",
        "  def __init__(self,num_pathces,proj_dim):\n",
        "    super(TokenEmbedding,self).__init__()\n",
        "    self.num_patches = num_patches\n",
        "    self.dense_projection = layers.Dense(proj_dim)  # linear projection\n",
        "    self.pos_emb = layers.Embedding(input_dim=num_patches, output_dim=proj_dim)\n",
        "    \n",
        "    \n",
        "  def get_config(self):\n",
        "    config = super().get_config().copy()\n",
        "    config.update({\n",
        "        'num_patches':self.num_patches,\n",
        "        'dense_projection':self.dense_projection,\n",
        "        'pos_emb':self.pos_emb\n",
        "    })\n",
        "    return config\n",
        "\n",
        "  def call(self,inputs):\n",
        "    positions = tf.range(start=0, limit=self.num_patches, delta=1)\n",
        "    embeddings = self.dense_projection(inputs)\n",
        "    positions = self.pos_emb(positions)\n",
        "    return embeddings + positions\n"
      ],
      "execution_count": null,
      "outputs": []
    },
    {
      "cell_type": "code",
      "metadata": {
        "id": "z1o0dIwpQZeH"
      },
      "source": [
        "class Patch_creation(layers.Layer) :\n",
        "  def __init__(self,num_patches_h,num_patches_w,patch_h,patch_w,embed_dim):\n",
        "    super(Patch_creation,self).__init__()\n",
        "    self.num_patches_h = num_patches_h\n",
        "    self.num_patches_w = num_patches_w\n",
        "    self.patch_h = patch_h\n",
        "    self.patch_w = patch_w\n",
        "    self.num_patches = self.num_patches_h*self.num_patches_w\n",
        "    self.embed_dim = embed_dim\n",
        "    self.flatten = layers.Flatten()\n",
        "    \n",
        "\n",
        "  def get_config(self):\n",
        "    config = super().get_config().copy()\n",
        "    config.update({\n",
        "        'num_patches_h':self.num_patches_h,\n",
        "        'num_patches_w':self.num_patches_w,\n",
        "        'patch_h': self.patch_h,\n",
        "        'patch_w': self.patch_w,\n",
        "        'num_patches': self.num_patches_h*self.num_patches_w,\n",
        "        'flatten': self.flatten,\n",
        "        'embed_dim':self.embed_dim\n",
        "    })\n",
        "    return config \n",
        "\n",
        "  @tf.function\n",
        "  def call(self,imgs):\n",
        "    self.patches = tf.Variable([[[0]*(self.patch_h*self.patch_w*3) for i in range(self.num_patches)]],shape=[None,self.num_patches,(self.patch_h*self.patch_w*3)],dtype=tf.float32,validate_shape=False,trainable=False)\n",
        "    if imgs.shape[0] is not None :\n",
        "      self.patches = tf.Variable(tf.zeros(shape=(imgs.shape[0],self.num_patches,self.patch_h*self.patch_w*3)),shape=tf.TensorShape([imgs.shape[0],self.num_patches,self.patch_h*self.patch_w*3]),dtype='float32',validate_shape=False,trainable=False)\n",
        "    for n_h in range(self.num_patches_h):\n",
        "      for n_w in range(self.num_patches_w) :\n",
        "        patch = imgs[:,n_h*self.patch_h:(n_h+1)*self.patch_h,(n_w)*self.patch_w:(n_w+1)*self.patch_w,:]\n",
        "        patch = self.flatten(patch)\n",
        "        patch = tf.cast(patch,tf.float32)\n",
        "        self.patches[:,n_h*self.num_patches_w+n_w,:].assign(patch)\n",
        "        \n",
        "    return tf.convert_to_tensor(self.patches)\n"
      ],
      "execution_count": null,
      "outputs": []
    },
    {
      "cell_type": "code",
      "metadata": {
        "id": "zZmW5eEql6gF"
      },
      "source": [
        "embed_dim = 64\n",
        "num_patches_h = 8\n",
        "num_patches_w = 8\n",
        "patch_h = 8\n",
        "patch_w = 8\n",
        "num_patches = 64\n",
        "num_heads = 12 \n",
        "ffn_dim = 128\n",
        "image_size = 64"
      ],
      "execution_count": null,
      "outputs": []
    },
    {
      "cell_type": "code",
      "metadata": {
        "id": "dVZk4Ppiy1XK"
      },
      "source": [
        "data_augumentation = tf.keras.Sequential(\n",
        "    [\n",
        "     layers.experimental.preprocessing.Rescaling(scale=1./255),\n",
        "     layers.experimental.preprocessing.Resizing(image_size, image_size),\n",
        "     layers.experimental.preprocessing.RandomFlip(\"horizontal\")\n",
        "    ]\n",
        ")"
      ],
      "execution_count": null,
      "outputs": []
    },
    {
      "cell_type": "code",
      "metadata": {
        "id": "AQb7z5Mj19Bx"
      },
      "source": [
        "inputs = layers.Input(shape=(32,32,3))\n",
        "augumented_data = data_augumentation(inputs)\n",
        "create_patches = Patch_creation(num_patches_h,num_patches_w,patch_h,patch_w,embed_dim)\n",
        "patches = create_patches(augumented_data)\n",
        "tokens = TokenEmbedding(num_patches,embed_dim)\n",
        "embeddings = tokens(patches)\n",
        "\n",
        "transformer_block = TransformerBlock(embed_dim,num_heads, ffn_dim)\n",
        "for  i in range(12):\n",
        "  embeddings ,attn_scores = transformer_block(embeddings)\n",
        "\n",
        "\n",
        "x = layers.GlobalAveragePooling1D()(embeddings)\n",
        "x = layers.Dropout(0.5)(x)\n",
        "outputs = layers.Dense(10, activation=\"softmax\")(x)\n",
        "\n",
        "model = keras.Model(inputs=inputs, outputs=outputs)\n",
        "\n",
        "\n"
      ],
      "execution_count": null,
      "outputs": []
    },
    {
      "cell_type": "code",
      "metadata": {
        "id": "qFB1eCrZo0d3"
      },
      "source": [
        "from tensorflow.keras.callbacks import LearningRateScheduler\n",
        "from tensorflow.keras.callbacks import ModelCheckpoint\n",
        "from tensorflow.keras.callbacks import EarlyStopping\n",
        "\n",
        "class myCallBack:\n",
        "    def custom_callbacks(self):\n",
        "      my_callbacks = [\n",
        "                      EarlyStopping(monitor='val_loss',patience=10,min_delta=0.01),\n",
        "                      ModelCheckpoint('model_1.h5',monitor='val_accuracy',save_best_only=True)\n",
        "                      \n",
        "      ]\n",
        "      return my_callbacks"
      ],
      "execution_count": null,
      "outputs": []
    },
    {
      "cell_type": "code",
      "metadata": {
        "id": "a4I3mDcqotaX",
        "colab": {
          "base_uri": "https://localhost:8080/"
        },
        "outputId": "549a4716-4f76-4cc4-90ba-f4e73549c743"
      },
      "source": [
        "(x_train, y_train), (x_test, y_test) = keras.datasets.cifar10.load_data()\n",
        "y_train = utils.to_categorical(y_train,10) # CIFAR-10 \n",
        "y_test = utils.to_categorical(y_test,10)\n"
      ],
      "execution_count": null,
      "outputs": [
        {
          "output_type": "stream",
          "text": [
            "Downloading data from https://www.cs.toronto.edu/~kriz/cifar-10-python.tar.gz\n",
            "170500096/170498071 [==============================] - 4s 0us/step\n"
          ],
          "name": "stdout"
        }
      ]
    },
    {
      "cell_type": "code",
      "metadata": {
        "id": "KvRlCbUhqGGG",
        "colab": {
          "base_uri": "https://localhost:8080/"
        },
        "outputId": "aa058831-5421-4860-dc5d-dc1cf1044d66"
      },
      "source": [
        "model.summary()"
      ],
      "execution_count": null,
      "outputs": [
        {
          "output_type": "stream",
          "text": [
            "Model: \"model\"\n",
            "__________________________________________________________________________________________________\n",
            "Layer (type)                    Output Shape         Param #     Connected to                     \n",
            "==================================================================================================\n",
            "input_1 (InputLayer)            [(None, 32, 32, 3)]  0                                            \n",
            "__________________________________________________________________________________________________\n",
            "sequential (Sequential)         (None, 64, 64, 3)    0           input_1[0][0]                    \n",
            "__________________________________________________________________________________________________\n",
            "patch_creation (Patch_creation) (None, 64, 192)      0           sequential[0][0]                 \n",
            "__________________________________________________________________________________________________\n",
            "token_embedding (TokenEmbedding (None, 64, 64)       16448       patch_creation[0][0]             \n",
            "__________________________________________________________________________________________________\n",
            "transformer_block (TransformerB ((None, 64, 64), (No 215808      token_embedding[0][0]            \n",
            "                                                                 transformer_block[0][0]          \n",
            "                                                                 transformer_block[1][0]          \n",
            "                                                                 transformer_block[2][0]          \n",
            "                                                                 transformer_block[3][0]          \n",
            "                                                                 transformer_block[4][0]          \n",
            "                                                                 transformer_block[5][0]          \n",
            "                                                                 transformer_block[6][0]          \n",
            "                                                                 transformer_block[7][0]          \n",
            "                                                                 transformer_block[8][0]          \n",
            "                                                                 transformer_block[9][0]          \n",
            "                                                                 transformer_block[10][0]         \n",
            "__________________________________________________________________________________________________\n",
            "global_average_pooling1d (Globa (None, 64)           0           transformer_block[11][0]         \n",
            "__________________________________________________________________________________________________\n",
            "dropout_2 (Dropout)             (None, 64)           0           global_average_pooling1d[0][0]   \n",
            "__________________________________________________________________________________________________\n",
            "dense_3 (Dense)                 (None, 10)           650         dropout_2[0][0]                  \n",
            "==================================================================================================\n",
            "Total params: 232,906\n",
            "Trainable params: 232,906\n",
            "Non-trainable params: 0\n",
            "__________________________________________________________________________________________________\n"
          ],
          "name": "stdout"
        }
      ]
    },
    {
      "cell_type": "code",
      "metadata": {
        "colab": {
          "background_save": true,
          "base_uri": "https://localhost:8080/"
        },
        "id": "KGRyvu_9o6GI",
        "outputId": "915f314a-9db1-4666-d528-55d84fa0c09e"
      },
      "source": [
        "lr_decayed_fn = tf.keras.optimizers.schedules.CosineDecay(\n",
        "    0.001, 58800)\n",
        "optimizer = tf.keras.optimizers.SGD(\n",
        "    learning_rate= lr_decayed_fn, momentum=0.9, nesterov=False, name=\"SGD\"\n",
        ")\n",
        "\n",
        "model.compile(optimizer=optimizer,loss=tf.keras.losses.CategoricalCrossentropy(),metrics=[\"accuracy\"])\n",
        "\n",
        "callbacks_custom = myCallBack()\n",
        "callbacks = callbacks_custom.custom_callbacks()\n",
        "\n",
        "history = model.fit(\n",
        "    x_train, y_train, batch_size=256, epochs=300, validation_data=(x_test, y_test),callbacks=callbacks\n",
        ")\n"
      ],
      "execution_count": null,
      "outputs": [
        {
          "output_type": "stream",
          "text": [
            "/usr/local/lib/python3.7/dist-packages/tensorflow/python/data/ops/dataset_ops.py:3704: UserWarning: Even though the `tf.config.experimental_run_functions_eagerly` option is set, this option does not apply to tf.data functions. To force eager execution of tf.data functions, please use `tf.data.experimental.enable.debug_mode()`.\n",
            "  \"Even though the `tf.config.experimental_run_functions_eagerly` \"\n"
          ],
          "name": "stderr"
        },
        {
          "output_type": "stream",
          "text": [
            "Epoch 1/300\n",
            "196/196 [==============================] - 94s 466ms/step - loss: 2.5517 - accuracy: 0.1270 - val_loss: 2.0584 - val_accuracy: 0.2073\n",
            "Epoch 2/300\n",
            "125/196 [==================>...........] - ETA: 30s - loss: 2.0914 - accuracy: 0.2127"
          ],
          "name": "stdout"
        }
      ]
    },
    {
      "cell_type": "code",
      "metadata": {
        "id": "FXTcpcrXzfM0"
      },
      "source": [
        "inputs = layers.Input(shape=input_shape)\n",
        "augumented_data = data_augumentation(input)\n",
        "patches = path_creation()"
      ],
      "execution_count": null,
      "outputs": []
    },
    {
      "cell_type": "code",
      "metadata": {
        "colab": {
          "base_uri": "https://localhost:8080/"
        },
        "id": "WB9HWtLADGQ_",
        "outputId": "419375cf-767c-45e3-ff50-350f517bac96"
      },
      "source": [
        "(x_train, y_train), (x_test, y_test) = keras.datasets.cifar10.load_data()"
      ],
      "execution_count": null,
      "outputs": [
        {
          "output_type": "stream",
          "text": [
            "Downloading data from https://www.cs.toronto.edu/~kriz/cifar-10-python.tar.gz\n",
            "170500096/170498071 [==============================] - 2s 0us/step\n"
          ],
          "name": "stdout"
        }
      ]
    },
    {
      "cell_type": "code",
      "metadata": {
        "id": "eqtk8THVIEUn"
      },
      "source": [
        "y_train = utils.to_categorical(y_train,10) # CIFAR-10 \n",
        "y_test = utils.to_categorical(y_test,10)"
      ],
      "execution_count": null,
      "outputs": []
    },
    {
      "cell_type": "code",
      "metadata": {
        "id": "C80RjAQuIMIp"
      },
      "source": [
        "x_train_sample = patch_creation(x_train,16,8,8,y_train)"
      ],
      "execution_count": null,
      "outputs": []
    },
    {
      "cell_type": "code",
      "metadata": {
        "colab": {
          "base_uri": "https://localhost:8080/"
        },
        "id": "M8awQEqGJpkP",
        "outputId": "7f181022-176d-4ef6-c645-9c34e8a52b49"
      },
      "source": [
        "import matplotlib.pyplot as plt\n",
        "for i in range(2):\n",
        "  \n",
        "  a = x_train_sample[i]\n",
        "  b = a[0]\n",
        "  for x in range(16):\n",
        "    y = b[x]\n",
        "    plt.imshow(b[x])\n",
        "  c = a[1]\n",
        "  print(len(a),b.shape,c.shape)\n",
        "  print(c)\n"
      ],
      "execution_count": null,
      "outputs": [
        {
          "output_type": "stream",
          "text": [
            "2 (16, 8, 8, 3) (10,)\n",
            "[0. 0. 0. 0. 0. 0. 1. 0. 0. 0.]\n",
            "2 (16, 8, 8, 3) (10,)\n",
            "[0. 0. 0. 0. 0. 0. 0. 0. 0. 1.]\n"
          ],
          "name": "stdout"
        }
      ]
    },
    {
      "cell_type": "code",
      "metadata": {
        "id": "dVfCyW5ZWEs8"
      },
      "source": [
        "img_inputs = x_train[12225:12227]\n",
        "patches = Patch_creation(2,2,16,16)(img_inputs)"
      ],
      "execution_count": null,
      "outputs": []
    },
    {
      "cell_type": "code",
      "metadata": {
        "colab": {
          "base_uri": "https://localhost:8080/"
        },
        "id": "Q0hvfkoR020l",
        "outputId": "2826ba6c-cf73-4a02-aecf-7d66954bd853"
      },
      "source": [
        "patches.shape"
      ],
      "execution_count": null,
      "outputs": [
        {
          "output_type": "execute_result",
          "data": {
            "text/plain": [
              "(2, 4, 768)"
            ]
          },
          "metadata": {
            "tags": []
          },
          "execution_count": 129
        }
      ]
    },
    {
      "cell_type": "code",
      "metadata": {
        "id": "S3OCTKRxZrMB"
      },
      "source": [
        "b = np.reshape(patches,(2,4,16,16,3))"
      ],
      "execution_count": null,
      "outputs": []
    },
    {
      "cell_type": "code",
      "metadata": {
        "id": "_qifEVNU05ZM"
      },
      "source": [
        "import matplotlib.pyplot as plt"
      ],
      "execution_count": null,
      "outputs": []
    },
    {
      "cell_type": "code",
      "metadata": {
        "colab": {
          "base_uri": "https://localhost:8080/",
          "height": 284
        },
        "id": "xMYKNMfwECht",
        "outputId": "6154d3b8-7c42-4d89-9c45-5809e309e8da"
      },
      "source": [
        "plt.imshow(x_train[12226])"
      ],
      "execution_count": null,
      "outputs": [
        {
          "output_type": "execute_result",
          "data": {
            "text/plain": [
              "<matplotlib.image.AxesImage at 0x7f4609d4db10>"
            ]
          },
          "metadata": {
            "tags": []
          },
          "execution_count": 49
        },
        {
          "output_type": "display_data",
          "data": {
            "image/png": "[encoded data removed]",
            "text/plain": [
              "<Figure size 432x288 with 1 Axes>"
            ]
          },
          "metadata": {
            "tags": []
          }
        }
      ]
    },
    {
      "cell_type": "code",
      "metadata": {
        "colab": {
          "base_uri": "https://localhost:8080/",
          "height": 283
        },
        "id": "MVjVzVyvCW3a",
        "outputId": "1fa25280-13d8-4134-a0c0-0deb031087a3"
      },
      "source": [
        "plt.imshow(b[0,2,:,:,:])"
      ],
      "execution_count": null,
      "outputs": [
        {
          "output_type": "execute_result",
          "data": {
            "text/plain": [
              "<matplotlib.image.AxesImage at 0x7f4608dcb710>"
            ]
          },
          "metadata": {
            "tags": []
          },
          "execution_count": 134
        },
        {
          "output_type": "display_data",
          "data": {
            "image/png": "[encoded data removed]",
            "text/plain": [
              "<Figure size 432x288 with 1 Axes>"
            ]
          },
          "metadata": {
            "tags": []
          }
        }
      ]
    },
    {
      "cell_type": "code",
      "metadata": {
        "colab": {
          "base_uri": "https://localhost:8080/",
          "height": 135
        },
        "id": "7qknB4gjCckl",
        "outputId": "fa002cc0-1620-4784-a35b-ea37dbee6101"
      },
      "source": [
        "inputs = layers.Input([shape=(32,32,3),shape=(1)])"
      ],
      "execution_count": null,
      "outputs": [
        {
          "output_type": "error",
          "ename": "SyntaxError",
          "evalue": "ignored",
          "traceback": [
            "\u001b[0;36m  File \u001b[0;32m\"<ipython-input-117-8d0fed2c0e8e>\"\u001b[0;36m, line \u001b[0;32m1\u001b[0m\n\u001b[0;31m    inputs = layers.Input([shape=(32,32,3),shape=(1)])\u001b[0m\n\u001b[0m                                ^\u001b[0m\n\u001b[0;31mSyntaxError\u001b[0m\u001b[0;31m:\u001b[0m invalid syntax\n"
          ]
        }
      ]
    },
    {
      "cell_type": "code",
      "metadata": {
        "id": "3ANueqW8N1Wt"
      },
      "source": [
        "l =[1,2,3]\n",
        "a =tf.convert_to_tensor(l)"
      ],
      "execution_count": null,
      "outputs": []
    },
    {
      "cell_type": "code",
      "metadata": {
        "id": "QFwlWkZ8uE4O"
      },
      "source": [
        "l.append(a)"
      ],
      "execution_count": null,
      "outputs": []
    },
    {
      "cell_type": "code",
      "metadata": {
        "id": "O-3H-xKhuLtr"
      },
      "source": [
        "a = tf.random.uniform(shape=(4,2,192))"
      ],
      "execution_count": null,
      "outputs": []
    },
    {
      "cell_type": "code",
      "metadata": {
        "colab": {
          "base_uri": "https://localhost:8080/"
        },
        "id": "yEUXvNEnwRjo",
        "outputId": "eaedf95c-5413-4e92-9226-4ae8077b153a"
      },
      "source": [
        "a[:,0]"
      ],
      "execution_count": null,
      "outputs": [
        {
          "output_type": "execute_result",
          "data": {
            "text/plain": [
              "<tf.Tensor: shape=(4, 192), dtype=float32, numpy=\n",
              "array([[2.39748001e-01, 4.34899330e-03, 1.63258195e-01, 1.31509066e-01,\n",
              "        4.09476876e-01, 5.34734726e-01, 1.62474990e-01, 5.00323772e-01,\n",
              "        8.62744927e-01, 5.01793981e-01, 3.66892338e-01, 7.88530469e-01,\n",
              "        1.38440132e-02, 3.21278453e-01, 7.66208291e-01, 7.81457543e-01,\n",
              "        6.69760108e-01, 6.33648396e-01, 5.47907472e-01, 8.35991383e-01,\n",
              "        3.47038746e-01, 7.81538248e-01, 3.69508743e-01, 1.30779624e-01,\n",
              "        2.40335703e-01, 2.03930259e-01, 8.85975599e-01, 2.82857418e-01,\n",
              "        3.65791321e-01, 1.69463158e-01, 6.10300899e-01, 3.16799760e-01,\n",
              "        4.60190892e-01, 3.69047523e-01, 3.47949982e-01, 7.10657716e-01,\n",
              "        4.62491512e-01, 5.20546317e-01, 8.08358788e-01, 7.72191405e-01,\n",
              "        1.37039185e-01, 5.48231244e-01, 2.44927168e-01, 6.21354938e-01,\n",
              "        6.59569979e-01, 4.76153851e-01, 7.58349419e-01, 6.96958661e-01,\n",
              "        3.03269506e-01, 6.56672120e-01, 5.03063202e-04, 8.17839622e-01,\n",
              "        4.79050517e-01, 7.71977305e-01, 8.07583928e-01, 6.31189466e-01,\n",
              "        5.77696800e-01, 3.77191901e-01, 1.70039892e-01, 7.02987432e-01,\n",
              "        5.21001935e-01, 8.24680924e-01, 9.77593899e-01, 6.48957491e-01,\n",
              "        2.14812994e-01, 5.81143737e-01, 8.62930655e-01, 2.17478395e-01,\n",
              "        8.98494005e-01, 8.70114326e-01, 5.58149576e-01, 6.97718263e-01,\n",
              "        6.86422944e-01, 9.42898393e-01, 9.76035833e-01, 5.47046661e-02,\n",
              "        6.23909354e-01, 3.38468790e-01, 1.16318941e-01, 7.77413607e-01,\n",
              "        9.16412830e-01, 1.95133805e-01, 7.81390667e-02, 9.83029366e-01,\n",
              "        6.63076639e-01, 1.26469016e-01, 5.34072399e-01, 9.31913257e-01,\n",
              "        5.00938058e-01, 6.67905569e-01, 8.24642301e-01, 1.43219471e-01,\n",
              "        8.59867215e-01, 5.48188806e-01, 6.89757109e-01, 2.13236809e-02,\n",
              "        7.87164688e-01, 6.05780959e-01, 9.02113080e-01, 3.27467084e-01,\n",
              "        2.72841692e-01, 6.82153702e-01, 6.83893561e-01, 6.81841254e-01,\n",
              "        5.97821832e-01, 1.61740422e-01, 7.92505264e-01, 3.07412744e-01,\n",
              "        5.63850403e-02, 3.43031883e-01, 1.59290552e-01, 2.21440911e-01,\n",
              "        8.94584298e-01, 2.77304173e-01, 1.70652151e-01, 7.97575712e-01,\n",
              "        6.71878457e-01, 1.61062837e-01, 2.70479441e-01, 5.18700957e-01,\n",
              "        5.68792701e-01, 3.23627591e-01, 8.11859369e-02, 9.21722651e-01,\n",
              "        7.49559164e-01, 6.42026663e-01, 9.16028023e-02, 7.43185282e-01,\n",
              "        8.15371752e-01, 4.41895962e-01, 5.19146800e-01, 8.73232245e-01,\n",
              "        1.42560959e-01, 5.31069875e-01, 5.82266092e-01, 2.05330253e-01,\n",
              "        5.91594100e-01, 3.55455995e-01, 3.85270000e-01, 2.87976146e-01,\n",
              "        3.78164768e-01, 5.01343012e-02, 3.26799750e-01, 5.45950174e-01,\n",
              "        3.23889375e-01, 1.37458086e-01, 6.89695835e-01, 6.42415047e-01,\n",
              "        2.69204974e-01, 9.78206158e-01, 8.24545145e-01, 2.96967864e-01,\n",
              "        4.79710460e-01, 6.82030201e-01, 3.34135652e-01, 3.90149117e-01,\n",
              "        4.12197113e-01, 7.26992011e-01, 4.50794935e-01, 4.18536425e-01,\n",
              "        7.33249545e-01, 8.29007745e-01, 2.79303789e-01, 4.48480844e-02,\n",
              "        1.98194027e-01, 4.50439572e-01, 1.74185395e-01, 4.63154316e-02,\n",
              "        2.79690862e-01, 9.38042045e-01, 2.28146315e-01, 5.90433955e-01,\n",
              "        6.34577751e-01, 8.16506743e-01, 5.00080705e-01, 4.85167742e-01,\n",
              "        5.86138964e-01, 5.28944969e-01, 8.33698273e-01, 5.33130288e-01,\n",
              "        3.73472214e-01, 4.79717612e-01, 4.20324087e-01, 4.50554729e-01,\n",
              "        9.09682751e-01, 5.53504944e-01, 7.91971087e-01, 4.06217337e-01,\n",
              "        4.54748631e-01, 2.47296453e-01, 5.90786099e-01, 3.06331515e-01],\n",
              "       [7.81245232e-02, 8.24982047e-01, 3.39175463e-02, 6.09314203e-01,\n",
              "        9.25076008e-01, 7.32222080e-01, 8.82837772e-01, 5.73240519e-01,\n",
              "        5.57678342e-01, 9.57957268e-01, 3.42615128e-01, 4.97328877e-01,\n",
              "        4.07134771e-01, 2.09369302e-01, 4.79846716e-01, 9.58180308e-01,\n",
              "        9.78074670e-01, 2.21916676e-01, 2.74545074e-01, 8.98703694e-01,\n",
              "        6.29631877e-01, 6.39077067e-01, 3.04481387e-01, 1.07993364e-01,\n",
              "        1.60296917e-01, 9.01752710e-02, 7.24618554e-01, 2.79164314e-03,\n",
              "        8.40715051e-01, 6.52151346e-01, 6.28295183e-01, 3.00920010e-02,\n",
              "        3.98349762e-01, 6.57410979e-01, 4.06534076e-01, 4.66363549e-01,\n",
              "        6.28366113e-01, 4.90471244e-01, 3.58263373e-01, 5.26662827e-01,\n",
              "        5.29499888e-01, 6.02756023e-01, 3.30699801e-01, 3.88043642e-01,\n",
              "        8.30841064e-03, 7.40782499e-01, 3.70865941e-01, 5.23176312e-01,\n",
              "        4.01653528e-01, 6.12551212e-01, 6.36184454e-01, 3.42035294e-02,\n",
              "        3.83153200e-01, 8.67971897e-01, 9.62217808e-01, 4.81276155e-01,\n",
              "        3.57400775e-01, 8.74007940e-01, 5.56474090e-01, 3.45689058e-02,\n",
              "        3.16379309e-01, 7.66242862e-01, 5.67190051e-01, 3.10496926e-01,\n",
              "        1.77911043e-01, 3.89459968e-01, 3.66496801e-01, 6.56869888e-01,\n",
              "        5.08984089e-01, 5.11990190e-01, 6.27775311e-01, 4.57474947e-01,\n",
              "        2.27789402e-01, 9.70867395e-01, 1.18884563e-01, 4.11488652e-01,\n",
              "        1.04597926e-01, 7.66745806e-01, 6.11076593e-01, 9.12033319e-01,\n",
              "        4.57735658e-01, 3.82769227e-01, 6.79458857e-01, 8.92224789e-01,\n",
              "        2.60127783e-01, 5.53247929e-01, 4.27902341e-01, 2.56356359e-01,\n",
              "        9.19464350e-01, 3.91653776e-01, 1.74121976e-01, 5.82141638e-01,\n",
              "        1.85847044e-01, 8.07509065e-01, 8.73018861e-01, 4.01789665e-01,\n",
              "        3.37455511e-01, 3.31581473e-01, 8.53142023e-01, 5.79181433e-01,\n",
              "        1.90270543e-01, 4.95110750e-01, 7.03410029e-01, 3.90796304e-01,\n",
              "        4.18592572e-01, 6.88866973e-01, 1.84737444e-02, 1.04700923e-01,\n",
              "        2.35836387e-01, 2.98644304e-02, 8.31310868e-01, 8.00771832e-01,\n",
              "        7.69901752e-01, 1.17557049e-01, 8.80437851e-01, 8.48188400e-02,\n",
              "        4.98219609e-01, 6.72362328e-01, 8.95463109e-01, 9.82403159e-01,\n",
              "        2.69305706e-03, 2.55721331e-01, 3.85239124e-02, 2.02982545e-01,\n",
              "        3.98812056e-01, 9.34088945e-01, 5.38986921e-01, 4.44495916e-01,\n",
              "        7.11704731e-01, 3.49947572e-01, 9.24114704e-01, 1.64360166e-01,\n",
              "        6.10744834e-01, 4.97733355e-01, 8.54603171e-01, 3.98055673e-01,\n",
              "        2.68398166e-01, 7.81510472e-01, 3.52302313e-01, 6.45673394e-01,\n",
              "        9.38223839e-01, 5.81890583e-01, 3.69957089e-01, 1.52775049e-01,\n",
              "        7.06527591e-01, 5.06561279e-01, 8.48445058e-01, 3.91118646e-01,\n",
              "        7.99824715e-01, 6.05165124e-01, 3.03161144e-01, 6.90762997e-01,\n",
              "        4.63613987e-01, 3.14284563e-01, 6.23420119e-01, 2.29012847e-01,\n",
              "        7.95029640e-01, 9.96140122e-01, 3.76401544e-01, 3.18118095e-01,\n",
              "        1.02100015e-01, 2.43839741e-01, 4.53162670e-01, 5.41680932e-01,\n",
              "        2.06981540e-01, 4.67263937e-01, 3.61320257e-01, 9.35553908e-01,\n",
              "        4.74332213e-01, 8.49602699e-01, 6.63496017e-01, 2.24178791e-01,\n",
              "        5.96365571e-01, 3.44016790e-01, 8.40170145e-01, 6.51290417e-02,\n",
              "        4.76986408e-01, 4.69438076e-01, 8.57534647e-01, 5.87218046e-01,\n",
              "        3.31552148e-01, 5.68413615e-01, 6.75324798e-01, 7.10750461e-01,\n",
              "        5.89625597e-01, 2.33783007e-01, 1.31407619e-01, 4.64299917e-02,\n",
              "        8.04850817e-01, 1.83175802e-02, 3.75393629e-02, 4.45161581e-01],\n",
              "       [6.86782241e-01, 2.10507751e-01, 7.71222949e-01, 2.56092668e-01,\n",
              "        8.84150267e-01, 7.70830750e-01, 3.07064533e-01, 5.62748671e-01,\n",
              "        5.14788866e-01, 1.67037964e-01, 4.26107764e-01, 3.35283637e-01,\n",
              "        5.82783103e-01, 3.97142529e-01, 8.91654253e-01, 1.51943088e-01,\n",
              "        1.42621875e-01, 7.18994737e-01, 6.60614967e-01, 5.94729185e-01,\n",
              "        4.98353004e-01, 9.83836532e-01, 1.21107101e-02, 2.96361208e-01,\n",
              "        7.69837141e-01, 3.20737839e-01, 8.83788824e-01, 3.86602879e-01,\n",
              "        7.92369723e-01, 6.63568258e-01, 8.31902862e-01, 7.38828182e-02,\n",
              "        4.52367187e-01, 9.84921217e-01, 7.07011580e-01, 1.90414071e-01,\n",
              "        9.29907560e-01, 3.12278748e-01, 1.58239961e-01, 9.81106877e-01,\n",
              "        6.39477968e-02, 2.75667787e-01, 7.61109591e-01, 3.53554130e-01,\n",
              "        7.21705079e-01, 6.75578833e-01, 3.22496295e-01, 7.24268556e-01,\n",
              "        4.63857055e-01, 9.27208662e-01, 3.21192741e-02, 8.94871473e-01,\n",
              "        5.22131324e-01, 6.56552553e-01, 4.32466030e-01, 3.12440038e-01,\n",
              "        4.22417164e-01, 5.91417909e-01, 6.10704422e-01, 8.29056144e-01,\n",
              "        1.71670556e-01, 4.97960329e-01, 8.13699961e-02, 6.03936672e-01,\n",
              "        5.05638957e-01, 7.10731030e-01, 5.17806053e-01, 3.37482452e-01,\n",
              "        8.59584451e-01, 9.58796024e-01, 2.34965682e-01, 3.95040989e-01,\n",
              "        9.29147601e-01, 4.36712742e-01, 3.70610118e-01, 1.25125170e-01,\n",
              "        6.81481004e-01, 3.54028940e-02, 9.64418769e-01, 9.20071363e-01,\n",
              "        8.88062716e-01, 6.29220843e-01, 8.86361957e-01, 5.08930922e-01,\n",
              "        1.80177927e-01, 9.79703069e-01, 3.00590038e-01, 7.60981321e-01,\n",
              "        9.91579771e-01, 2.27296472e-01, 2.55642772e-01, 9.90387797e-01,\n",
              "        1.46832585e-01, 3.82715702e-01, 2.12969661e-01, 2.95246601e-01,\n",
              "        2.77115107e-01, 1.95421934e-01, 9.55794215e-01, 7.01142550e-02,\n",
              "        4.97829795e-01, 9.42575812e-01, 4.56225514e-01, 7.69788861e-01,\n",
              "        6.21988654e-01, 6.95228577e-04, 3.19484472e-02, 9.12767529e-01,\n",
              "        2.62525201e-01, 9.28226948e-01, 6.68408155e-01, 1.82320595e-01,\n",
              "        6.65777922e-01, 7.91979313e-01, 1.65952444e-01, 1.03128195e-01,\n",
              "        2.03354239e-01, 5.48546672e-01, 4.12081599e-01, 9.53686357e-01,\n",
              "        8.35563660e-01, 6.15106821e-01, 4.46032286e-01, 2.28834867e-01,\n",
              "        2.58145094e-01, 7.87525892e-01, 5.35910606e-01, 6.32607818e-01,\n",
              "        5.76867223e-01, 1.72228575e-01, 7.75522947e-01, 7.72478223e-01,\n",
              "        7.10120201e-02, 5.23741603e-01, 1.40042186e-01, 6.76555157e-01,\n",
              "        3.26073170e-02, 1.34024262e-01, 2.29280472e-01, 8.23394418e-01,\n",
              "        5.24298906e-01, 1.98220730e-01, 8.23139429e-01, 8.95683646e-01,\n",
              "        5.95218778e-01, 2.46258974e-02, 8.03840637e-01, 6.26977921e-01,\n",
              "        1.56190276e-01, 7.67935991e-01, 1.37122750e-01, 6.12915754e-01,\n",
              "        6.72303438e-01, 1.08678937e-01, 8.71358991e-01, 4.88206148e-01,\n",
              "        3.87948871e-01, 9.34895396e-01, 5.56006312e-01, 6.68835998e-01,\n",
              "        9.53780413e-01, 7.31315970e-01, 1.79045558e-01, 3.76725674e-01,\n",
              "        8.50372672e-01, 4.96410370e-01, 8.54382277e-01, 9.48256612e-01,\n",
              "        8.06055069e-01, 2.86072254e-01, 9.90543485e-01, 8.35449100e-01,\n",
              "        8.86413455e-01, 9.94508147e-01, 5.26831865e-01, 6.27251029e-01,\n",
              "        6.74130321e-01, 6.36520028e-01, 5.45962691e-01, 9.24114585e-01,\n",
              "        3.07885289e-01, 7.87602663e-01, 1.14115238e-01, 5.76977611e-01,\n",
              "        2.92596817e-02, 9.69809294e-02, 3.29111457e-01, 8.22562814e-01,\n",
              "        7.56141305e-01, 8.49313378e-01, 1.11428261e-01, 1.54185653e-01],\n",
              "       [7.36359358e-01, 1.04355097e-01, 7.10972309e-01, 9.26066279e-01,\n",
              "        7.13167787e-01, 3.17389250e-01, 6.17304564e-01, 9.59593058e-02,\n",
              "        2.61427641e-01, 7.59024739e-01, 7.89203644e-01, 7.02748418e-01,\n",
              "        6.87422395e-01, 7.68137217e-01, 4.91105556e-01, 7.13797808e-02,\n",
              "        7.10709095e-01, 1.55568123e-03, 5.22463679e-01, 6.16012812e-02,\n",
              "        7.68572807e-01, 3.89269114e-01, 7.39301562e-01, 6.18270636e-01,\n",
              "        9.50703502e-01, 3.63865852e-01, 6.06413126e-01, 2.18368530e-01,\n",
              "        1.74191952e-01, 7.56799936e-01, 1.70613408e-01, 3.82475853e-02,\n",
              "        5.51185608e-01, 2.69599080e-01, 3.11266303e-01, 7.33637810e-01,\n",
              "        9.21850204e-01, 3.80597949e-01, 6.28960133e-02, 9.93257284e-01,\n",
              "        2.50083923e-01, 6.04361296e-02, 5.65611601e-01, 6.83190703e-01,\n",
              "        9.80664611e-01, 1.93021417e-01, 9.74989653e-01, 1.58527136e-01,\n",
              "        9.69103575e-01, 9.21559334e-01, 5.14379978e-01, 3.08569789e-01,\n",
              "        2.19201565e-01, 8.22803974e-02, 6.61203027e-01, 8.47997904e-01,\n",
              "        2.47732282e-01, 7.78812051e-01, 7.10302472e-01, 9.95031595e-02,\n",
              "        9.28527713e-01, 3.45044136e-02, 6.62121534e-01, 9.46153402e-02,\n",
              "        5.78875422e-01, 5.17466545e-01, 3.38081121e-02, 1.52445674e-01,\n",
              "        9.03356075e-03, 5.15141010e-01, 9.03347015e-01, 3.62965703e-01,\n",
              "        9.03971553e-01, 5.56554794e-02, 2.00393081e-01, 7.92402148e-01,\n",
              "        5.85790753e-01, 1.87087655e-01, 5.98780155e-01, 2.03915238e-01,\n",
              "        1.16934061e-01, 2.29985952e-01, 1.58700943e-01, 6.24708414e-01,\n",
              "        4.18006301e-01, 9.36304808e-01, 3.08354616e-01, 7.06861496e-01,\n",
              "        3.45410109e-02, 4.14217949e-01, 4.24738288e-01, 2.71587372e-01,\n",
              "        6.19266868e-01, 2.40426660e-01, 7.88512111e-01, 3.85434031e-01,\n",
              "        3.24155450e-01, 3.15459251e-01, 6.00410461e-01, 8.87691736e-01,\n",
              "        7.94039249e-01, 5.09549141e-01, 5.04004955e-02, 1.26755118e-01,\n",
              "        3.74171138e-01, 9.28913713e-01, 2.85855412e-01, 3.57097387e-01,\n",
              "        3.41513157e-02, 7.98944831e-01, 7.69510388e-01, 9.70913172e-02,\n",
              "        8.37886810e-01, 9.37153935e-01, 7.09273815e-02, 8.98615718e-01,\n",
              "        3.02387476e-02, 1.46317601e-01, 8.72422457e-01, 8.84268522e-01,\n",
              "        3.52424383e-01, 6.85155392e-02, 8.94022107e-01, 8.85959029e-01,\n",
              "        5.80968976e-01, 8.88738155e-01, 5.65514207e-01, 4.23998952e-01,\n",
              "        3.65364671e-01, 3.73508334e-01, 7.39397764e-01, 8.98228765e-01,\n",
              "        9.65000391e-02, 3.10262561e-01, 5.41181564e-02, 3.86541486e-01,\n",
              "        4.70985174e-01, 2.89070249e-01, 9.71447587e-01, 3.74097824e-01,\n",
              "        4.72944736e-01, 1.78767920e-01, 8.94696474e-01, 9.86473322e-01,\n",
              "        8.68817568e-02, 3.36355567e-01, 4.81065273e-01, 4.53776240e-01,\n",
              "        4.85633492e-01, 5.67391276e-01, 3.13282132e-01, 9.35302973e-02,\n",
              "        5.13036251e-02, 9.71320271e-01, 4.10244465e-02, 7.22143531e-01,\n",
              "        6.26557231e-01, 8.44382644e-01, 2.66250372e-02, 7.55774140e-01,\n",
              "        2.70247459e-02, 9.39440966e-01, 7.50972033e-01, 9.73508716e-01,\n",
              "        7.48649716e-01, 7.33305812e-01, 7.75281787e-01, 4.75648403e-01,\n",
              "        6.43606305e-01, 6.38392925e-01, 8.33786726e-02, 7.44207025e-01,\n",
              "        9.06005263e-01, 4.76927996e-01, 2.32618928e-01, 1.15407467e-01,\n",
              "        4.69020486e-01, 5.38561225e-01, 6.11103654e-01, 9.38928485e-01,\n",
              "        8.59440088e-01, 5.45128345e-01, 8.24064016e-01, 6.04424596e-01,\n",
              "        4.60842609e-01, 6.27219200e-01, 7.30016232e-02, 2.98851728e-02,\n",
              "        2.60229230e-01, 7.93467402e-01, 8.23635340e-01, 5.26221275e-01]],\n",
              "      dtype=float32)>"
            ]
          },
          "metadata": {
            "tags": []
          },
          "execution_count": 26
        }
      ]
    },
    {
      "cell_type": "code",
      "metadata": {
        "id": "DiC9r1MPwz-b"
      },
      "source": [
        ""
      ],
      "execution_count": null,
      "outputs": []
    }
  ]
}